{
 "cells": [
  {
   "cell_type": "markdown",
   "id": "3618b16a",
   "metadata": {},
   "source": [
    "### Numpy basics"
   ]
  },
  {
   "cell_type": "code",
   "execution_count": 2,
   "id": "16a10d62",
   "metadata": {},
   "outputs": [],
   "source": [
    "import numpy as np"
   ]
  },
  {
   "cell_type": "markdown",
   "id": "13219a47",
   "metadata": {},
   "source": [
    "#### Creating array from list"
   ]
  },
  {
   "cell_type": "code",
   "execution_count": 5,
   "id": "406d0b41",
   "metadata": {},
   "outputs": [
    {
     "name": "stdout",
     "output_type": "stream",
     "text": [
      "1D array [1 2 3 4 5]\n",
      "2d array: [[1 2 3]\n",
      " [4 5 6]]\n"
     ]
    }
   ],
   "source": [
    "arr_1d = np.array([1,2,3,4,5])\n",
    "print(\"1D array\",arr_1d)\n",
    "\n",
    "arr_2d = np.array([[1,2,3],[4,5,6]])\n",
    "print(\"2d array:\",arr_2d)"
   ]
  },
  {
   "cell_type": "markdown",
   "id": "9b749358",
   "metadata": {},
   "source": [
    "#### List vs numpy array"
   ]
  },
  {
   "cell_type": "code",
   "execution_count": 9,
   "id": "1787521d",
   "metadata": {},
   "outputs": [
    {
     "name": "stdout",
     "output_type": "stream",
     "text": [
      "Python list multiplication [1, 2, 3, 1, 2, 3]\n",
      "Python list multiplication [2 4 6]\n",
      "\n",
      " List opeartion time  0.11173009872436523\n",
      "\n",
      " Numpy opeartion time  0.0\n"
     ]
    }
   ],
   "source": [
    "py_list = [1,2,3]\n",
    "print(\"Python list multiplication\",py_list*2)\n",
    "\n",
    "np_array = np.array([1,2,3]) #element wise multiplication\n",
    "print(\"Python list multiplication\",np_array*2)\n",
    "\n",
    "import time\n",
    "start = time.time()\n",
    "py_list = [i*2 for i in range (1000000)]\n",
    "print(\"\\n List opeartion time \",time.time()-start)\n",
    "\n",
    "start = time.time()\n",
    "np_array = np.arange(100000)*2\n",
    "print(\"\\n Numpy opeartion time \",time.time()-start)\n"
   ]
  },
  {
   "cell_type": "markdown",
   "id": "6174ee00",
   "metadata": {},
   "source": [
    "#### Creating array from scratch"
   ]
  },
  {
   "cell_type": "code",
   "execution_count": 13,
   "id": "83130c83",
   "metadata": {},
   "outputs": [
    {
     "name": "stdout",
     "output_type": "stream",
     "text": [
      "Zeros array:\n",
      " [[0. 0. 0. 0. 0.]\n",
      " [0. 0. 0. 0. 0.]\n",
      " [0. 0. 0. 0. 0.]\n",
      " [0. 0. 0. 0. 0.]]\n",
      "one array: \n",
      " [[1. 1. 1.]\n",
      " [1. 1. 1.]]\n",
      "full array:\n",
      " [[7 7]\n",
      " [7 7]]\n",
      "Random array: \n",
      " [[0.22929087 0.08070945 0.41098998]\n",
      " [0.98625092 0.64086204 0.06977816]]\n",
      "sequence array: \n",
      " [ 0  2  4  6  8 10]\n"
     ]
    }
   ],
   "source": [
    "zeros = np.zeros((4,5))\n",
    "print(\"Zeros array:\\n\",zeros)\n",
    "\n",
    "ones = np.ones((2,3))\n",
    "print(\"one array: \\n\",ones)\n",
    "\n",
    "full = np.full((2,2),7)\n",
    "print(\"full array:\\n\",full)\n",
    "\n",
    "random = np.random.random((2,3))\n",
    "print(\"Random array: \\n\",random)\n",
    "\n",
    "sequence = np.arange(0,11,2)\n",
    "print(\"sequence array: \\n\",sequence)"
   ]
  },
  {
   "cell_type": "markdown",
   "id": "456a6df9",
   "metadata": {},
   "source": [
    "#### Vector , Matrices and Tensor"
   ]
  },
  {
   "cell_type": "code",
   "execution_count": 14,
   "id": "cbccd6e0",
   "metadata": {},
   "outputs": [
    {
     "name": "stdout",
     "output_type": "stream",
     "text": [
      "Vector [1 2 3]\n",
      "matrix [[1 2 3]\n",
      " [4 5 6]]\n",
      "tensor [[1 2]\n",
      " [3 4]\n",
      " [5 6]\n",
      " [7 8]]\n"
     ]
    }
   ],
   "source": [
    "vector = np.array([1,2,3])\n",
    "print(\"Vector\",vector)\n",
    "\n",
    "matrix = np.array([\n",
    "    [1,2,3],\n",
    "    [4,5,6]\n",
    "])\n",
    "print(\"matrix\",matrix)\n",
    "\n",
    "tensor = np.array([[1,2],[3,4],\n",
    "                   [5,6],[7,8]]) ## multidimensional array\n",
    "print(\"tensor\",tensor)"
   ]
  },
  {
   "cell_type": "markdown",
   "id": "21d33d13",
   "metadata": {},
   "source": [
    "#### Array Properties"
   ]
  },
  {
   "cell_type": "code",
   "execution_count": 16,
   "id": "1a72cdb5",
   "metadata": {},
   "outputs": [
    {
     "name": "stdout",
     "output_type": "stream",
     "text": [
      "Shape (2, 3)\n",
      "Dimension 2\n",
      "size 6\n",
      "DateType int64\n"
     ]
    }
   ],
   "source": [
    "arr = np.array([[1,2,3],\n",
    "                [4,5,6]])\n",
    "print(\"Shape\",arr.shape) #gives rows and columns\n",
    "print(\"Dimension\", arr.ndim)\n",
    "print(\"size\",arr.size) # No.of elemnets\n",
    "print(\"DateType\",arr.dtype)"
   ]
  },
  {
   "cell_type": "markdown",
   "id": "f9a31d66",
   "metadata": {},
   "source": [
    "#### Array Reshaping"
   ]
  },
  {
   "cell_type": "code",
   "execution_count": 18,
   "id": "59397ff6",
   "metadata": {},
   "outputs": [
    {
     "name": "stdout",
     "output_type": "stream",
     "text": [
      "Oriinal array [ 0  1  2  3  4  5  6  7  8  9 10 11]\n",
      "\n",
      " Reshaped array: [[ 0  1  2  3]\n",
      " [ 4  5  6  7]\n",
      " [ 8  9 10 11]]\n",
      "\n",
      " flattened array: [ 0  1  2  3  4  5  6  7  8  9 10 11]\n",
      "\n",
      " raveled array [ 0  1  2  3  4  5  6  7  8  9 10 11]\n",
      "\n",
      " Transposed array [[ 0  4  8]\n",
      " [ 1  5  9]\n",
      " [ 2  6 10]\n",
      " [ 3  7 11]]\n"
     ]
    }
   ],
   "source": [
    "arr = np.arange(12)\n",
    "print(\"Oriinal array\",arr)\n",
    "\n",
    "reshaped = arr.reshape((3,4))\n",
    "print(\"\\n Reshaped array:\",reshaped)\n",
    "\n",
    "flattened = reshaped.flatten()\n",
    "print(\"\\n flattened array:\",flattened)\n",
    "\n",
    "#ravel ( returns view, instead of copy)\n",
    "raveled = reshaped.ravel()\n",
    "print(\"\\n raveled array\", raveled)\n",
    "\n",
    "transpose = reshaped.T\n",
    "print(\"\\n Transposed array\", transpose)"
   ]
  }
 ],
 "metadata": {
  "kernelspec": {
   "display_name": "Python 3",
   "language": "python",
   "name": "python3"
  },
  "language_info": {
   "codemirror_mode": {
    "name": "ipython",
    "version": 3
   },
   "file_extension": ".py",
   "mimetype": "text/x-python",
   "name": "python",
   "nbconvert_exporter": "python",
   "pygments_lexer": "ipython3",
   "version": "3.11.4"
  }
 },
 "nbformat": 4,
 "nbformat_minor": 5
}
