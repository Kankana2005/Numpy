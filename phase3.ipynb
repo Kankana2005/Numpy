{
 "cells": [
  {
   "cell_type": "markdown",
   "id": "ec807904",
   "metadata": {},
   "source": [
    "# Advance Operations With Business Examples"
   ]
  },
  {
   "cell_type": "code",
   "execution_count": 2,
   "id": "99123d41",
   "metadata": {},
   "outputs": [],
   "source": [
    "import numpy as np\n",
    "import matplotlib.pyplot as plt"
   ]
  },
  {
   "cell_type": "code",
   "execution_count": 3,
   "id": "a4e684c4",
   "metadata": {},
   "outputs": [
    {
     "name": "stdout",
     "output_type": "stream",
     "text": [
      "==== Zomato sales analysis ==== \n",
      "\n",
      " Sales data shape (5, 5)\n",
      "\n",
      " Sample data for 1st 3 restau:  [[     1 150000 180000 220000 250000]\n",
      " [     2 120000 140000 160000 190000]\n",
      " [     3 200000 230000 260000 300000]]\n"
     ]
    }
   ],
   "source": [
    "# Data structure: [restaurant_id, 2021, 2022, 2023, 2024]\n",
    "sales_data = np.array([\n",
    "    [1, 150000, 180000, 220000, 250000],  # Paradise Biryani\n",
    "    [2, 120000, 140000, 160000, 190000],  # Beijing Bites\n",
    "    [3, 200000, 230000, 260000, 300000],  # Pizza Hub\n",
    "    [4, 180000, 210000, 240000, 270000],  # Burger Point\n",
    "    [5, 160000, 185000, 205000, 230000]   # Chai Point\n",
    "])\n",
    "\n",
    "print(\"==== Zomato sales analysis ==== \")\n",
    "print(\"\\n Sales data shape\", sales_data.shape)\n",
    "print(\"\\n Sample data for 1st 3 restau: \", sales_data[:3])"
   ]
  },
  {
   "cell_type": "markdown",
   "id": "645e7f0e",
   "metadata": {},
   "source": [
    "#### Total sales per year"
   ]
  },
  {
   "cell_type": "code",
   "execution_count": 10,
   "id": "72a31dc9",
   "metadata": {},
   "outputs": [
    {
     "name": "stdout",
     "output_type": "stream",
     "text": [
      "[     15  810000  945000 1085000 1240000]\n",
      "[ 810000  945000 1085000 1240000]\n",
      "[150000 120000 200000 180000 160000]\n",
      "[200000 230000 260000 300000]\n",
      "[200000. 152500. 247500. 225000. 195000.]\n"
     ]
    }
   ],
   "source": [
    "print(np.sum(sales_data,axis = 0))\n",
    "yearly_total = np.sum(sales_data[:,1:],axis = 0)\n",
    "print(yearly_total)\n",
    "\n",
    "#Minimum sales per restaurant \n",
    "min_sales = np.min(sales_data[:,1:],axis = 1) #axis = 0 (cols)\n",
    "print(min_sales)\n",
    "\n",
    "#Maximum sales per year\n",
    "max_sale = np.max(sales_data[:,1:],axis = 0)\n",
    "print(max_sale)\n",
    "\n",
    "# Average sales per restaurant\n",
    "avg_sales = np.mean(sales_data[:,1:],axis = 1)\n",
    "print(avg_sales)\n"
   ]
  },
  {
   "cell_type": "code",
   "execution_count": null,
   "id": "8c8b0682",
   "metadata": {},
   "outputs": [],
   "source": [
    "cumsum = np."
   ]
  }
 ],
 "metadata": {
  "kernelspec": {
   "display_name": "Python 3",
   "language": "python",
   "name": "python3"
  },
  "language_info": {
   "codemirror_mode": {
    "name": "ipython",
    "version": 3
   },
   "file_extension": ".py",
   "mimetype": "text/x-python",
   "name": "python",
   "nbconvert_exporter": "python",
   "pygments_lexer": "ipython3",
   "version": "3.11.4"
  }
 },
 "nbformat": 4,
 "nbformat_minor": 5
}
