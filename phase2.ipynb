{
 "cells": [
  {
   "cell_type": "markdown",
   "id": "a7c1dc16",
   "metadata": {},
   "source": [
    "### Numpy Array Operations"
   ]
  },
  {
   "cell_type": "code",
   "execution_count": 2,
   "id": "6e62a66a",
   "metadata": {},
   "outputs": [],
   "source": [
    "import numpy as np"
   ]
  },
  {
   "cell_type": "code",
   "execution_count": 3,
   "id": "449be2bb",
   "metadata": {},
   "outputs": [
    {
     "name": "stdout",
     "output_type": "stream",
     "text": [
      "Basic Slicing [3 4 5 6 7]\n",
      "With step [2 4 6 8]\n",
      "Negative indexing 8\n"
     ]
    }
   ],
   "source": [
    "arr = np.array([1,2,3,4,5,6,7,8,9,10])\n",
    "print(\"Basic Slicing\",arr[2:7])\n",
    "print(\"With step\",arr[1:8:2])\n",
    "print(\"Negative indexing\",arr[-3])"
   ]
  },
  {
   "cell_type": "code",
   "execution_count": 4,
   "id": "0b7c16d9",
   "metadata": {},
   "outputs": [
    {
     "name": "stdout",
     "output_type": "stream",
     "text": [
      "Specific element 6\n",
      "Entire row:  [4 5 6]\n",
      "Entire column [2 5 8]\n"
     ]
    }
   ],
   "source": [
    "arr_2d = np.array([[1,2,3],\n",
    "                   [4,5,6],\n",
    "                   [7,8,9]])\n",
    "print(\"Specific element\",arr_2d[1,2])\n",
    "print(\"Entire row: \",arr_2d[1])\n",
    "print(\"Entire column\",arr_2d[:,1])\n"
   ]
  },
  {
   "cell_type": "markdown",
   "id": "14b0d04e",
   "metadata": {},
   "source": [
    "#### Sorting"
   ]
  },
  {
   "cell_type": "code",
   "execution_count": 5,
   "id": "c4045e96",
   "metadata": {},
   "outputs": [
    {
     "name": "stdout",
     "output_type": "stream",
     "text": [
      "Sorted array [1 2 2 3 4 5 6 9]\n",
      "Sorted 2D array by column  [[1 1]\n",
      " [2 2]\n",
      " [3 3]]\n"
     ]
    }
   ],
   "source": [
    "unsorted = np.array([3,1,4,2,5,9,2,6])\n",
    "print(\"Sorted array\",np.sort(unsorted))\n",
    "\n",
    "arr_2d_unsorted = np.array([[3,1],\n",
    "                            [1,2],[2,3]])\n",
    "print(\"Sorted 2D array by column \",np.sort(arr_2d_unsorted,axis=0))"
   ]
  },
  {
   "cell_type": "markdown",
   "id": "430511a9",
   "metadata": {},
   "source": [
    "#### Filter"
   ]
  },
  {
   "cell_type": "code",
   "execution_count": 6,
   "id": "6a4ffe7c",
   "metadata": {},
   "outputs": [
    {
     "name": "stdout",
     "output_type": "stream",
     "text": [
      "even numbers [ 2  4  6  8 10]\n"
     ]
    }
   ],
   "source": [
    "numbers = np.array([1,2,3,4,5,6,7,8,9,10])\n",
    "even_number = numbers[numbers % 2 == 0] # allows to write expressions\n",
    "print(\"even numbers\",even_number)"
   ]
  },
  {
   "cell_type": "markdown",
   "id": "180f673a",
   "metadata": {},
   "source": [
    "#### Filter with mask"
   ]
  },
  {
   "cell_type": "code",
   "execution_count": 7,
   "id": "f6d1245c",
   "metadata": {},
   "outputs": [
    {
     "name": "stdout",
     "output_type": "stream",
     "text": [
      "Numbers greater than 5 [ 6  7  8  9 10]\n"
     ]
    }
   ],
   "source": [
    "#mask - expression which evaluates \n",
    "mask = numbers > 5\n",
    "print(\"Numbers greater than 5\",numbers[mask])"
   ]
  },
  {
   "cell_type": "markdown",
   "id": "b31e5730",
   "metadata": {},
   "source": [
    "#### Fancy Indexing vs np.where()"
   ]
  },
  {
   "cell_type": "code",
   "execution_count": 8,
   "id": "1304dfff",
   "metadata": {},
   "outputs": [
    {
     "name": "stdout",
     "output_type": "stream",
     "text": [
      "[1 3 5]\n",
      "(array([5, 6, 7, 8, 9]),)\n",
      "Np where:  [ 6  7  8  9 10]\n"
     ]
    }
   ],
   "source": [
    "indices = [0,2,4]\n",
    "print(numbers[indices])\n",
    "\n",
    "where_result = np.where(numbers > 5)\n",
    "print(where_result)\n",
    "print(\"Np where: \",numbers[where_result])"
   ]
  },
  {
   "cell_type": "code",
   "execution_count": null,
   "id": "529c222d",
   "metadata": {},
   "outputs": [
    {
     "name": "stdout",
     "output_type": "stream",
     "text": [
      "[ 1  2  3  4  5 12 14 16 18 20]\n"
     ]
    }
   ],
   "source": [
    "condition_array = np.where(numbers > 5 , numbers*2,numbers)\n",
    "print(condition_array)"
   ]
  },
  {
   "cell_type": "markdown",
   "id": "56e58806",
   "metadata": {},
   "source": [
    "#### Adding and Removing data"
   ]
  },
  {
   "cell_type": "code",
   "execution_count": 12,
   "id": "33f022b2",
   "metadata": {},
   "outputs": [
    {
     "name": "stdout",
     "output_type": "stream",
     "text": [
      "[1 2 3 4 5 6]\n"
     ]
    }
   ],
   "source": [
    "arr1 = np.array([1,2,3])\n",
    "arr2 = np.array([4,5,6])\n",
    "\n",
    "combined = np.concatenate((arr1,arr2))\n",
    "print(combined)"
   ]
  },
  {
   "cell_type": "markdown",
   "id": "d57c3f31",
   "metadata": {},
   "source": [
    "#### Array Compatibility"
   ]
  },
  {
   "cell_type": "code",
   "execution_count": 14,
   "id": "735c8423",
   "metadata": {},
   "outputs": [
    {
     "name": "stdout",
     "output_type": "stream",
     "text": [
      "Compatibility shapes False\n"
     ]
    }
   ],
   "source": [
    "a = np.array([1,2,3])\n",
    "b = np.array([4,5,6,7])\n",
    "c = np.array([7,8,9])\n",
    "\n",
    "print(\"Compatibility shapes\" ,a.shape == b.shape)"
   ]
  },
  {
   "cell_type": "code",
   "execution_count": 16,
   "id": "0592de6c",
   "metadata": {},
   "outputs": [
    {
     "name": "stdout",
     "output_type": "stream",
     "text": [
      "[[1 2]\n",
      " [3 4]]\n",
      "[[1 2]\n",
      " [3 4]\n",
      " [5 6]]\n",
      "[[1 2 7]\n",
      " [3 4 8]]\n"
     ]
    }
   ],
   "source": [
    "original = np.array([[1,2],[3,4]])\n",
    "new_row = np.array([[5,6]])\n",
    "\n",
    "with_new_row = np.vstack((original,new_row)) # vstack always add a new row\n",
    "print(original)\n",
    "print(with_new_row)\n",
    "\n",
    "new_col = np.array([[7],[8]])\n",
    "with_new_col = np.hstack((original, new_col))\n",
    "print(with_new_col)"
   ]
  },
  {
   "cell_type": "code",
   "execution_count": null,
   "id": "9442ac80",
   "metadata": {},
   "outputs": [
    {
     "name": "stdout",
     "output_type": "stream",
     "text": [
      "[1 2 4 5]\n"
     ]
    }
   ],
   "source": [
    "arr = np.array([1,2,3,4,5])\n",
    "deleted = np.delete(arr,2)\n",
    "print(deleted) #returns array after deletion"
   ]
  }
 ],
 "metadata": {
  "kernelspec": {
   "display_name": "Python 3",
   "language": "python",
   "name": "python3"
  },
  "language_info": {
   "codemirror_mode": {
    "name": "ipython",
    "version": 3
   },
   "file_extension": ".py",
   "mimetype": "text/x-python",
   "name": "python",
   "nbconvert_exporter": "python",
   "pygments_lexer": "ipython3",
   "version": "3.11.4"
  }
 },
 "nbformat": 4,
 "nbformat_minor": 5
}
